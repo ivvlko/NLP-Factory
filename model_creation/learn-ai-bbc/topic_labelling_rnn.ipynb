{
 "cells": [
  {
   "cell_type": "markdown",
   "metadata": {
    "id": "fxYcZkGfj3nY"
   },
   "source": [
    "# Creating Neural Net that finds topics in articles\n",
    "\n",
    "We'll target the articles in Hacker News but esentially it's the same text as they are in BBC or Reuters or whatever. So it's convenient to search for a nice corpus in csv format that will do the work and we don't reinvent the wheel from scratch. Thankfully I found this dataset in Kaggle:\n",
    "\n",
    "[Click](https://www.kaggle.com/kishanyadav/inshort-news?select=inshort_news_data-3.csv)\n",
    "\n",
    "Esentially there are 7 big topics: technology,sports,politics,entertainment,world,automobile and science. This covers exactly the profile of Hacker News so we can proceed. Anyway, there is a free HN dataset in Big Query so I will get a sample to make final tests on it and use  every single observation from Kaggle dataset for training only."
   ]
  },
  {
   "cell_type": "markdown",
   "metadata": {
    "id": "1Rby9qaVllh9"
   },
   "source": [
    "### Retrieve test data from Big Query "
   ]
  },
  {
   "cell_type": "code",
   "execution_count": 1,
   "metadata": {
    "id": "O3PUozmUfrj_"
   },
   "outputs": [],
   "source": [
    "from google.colab import auth\n",
    "auth.authenticate_user()"
   ]
  },
  {
   "cell_type": "code",
   "execution_count": 2,
   "metadata": {
    "id": "Mi2UKagSb4pP"
   },
   "outputs": [],
   "source": [
    "from google.cloud import bigquery\n",
    "client = bigquery.Client('hn-model-creation')"
   ]
  },
  {
   "cell_type": "code",
   "execution_count": 3,
   "metadata": {
    "colab": {
     "base_uri": "https://localhost:8080/"
    },
    "id": "RNLX4y2KjCQw",
    "outputId": "a62570ca-ee7b-453d-8b74-c30072062ce8"
   },
   "outputs": [
    {
     "name": "stdout",
     "output_type": "stream",
     "text": [
      "Requirement already satisfied: tensorflow-addons in /usr/local/lib/python3.7/dist-packages (0.12.1)\n",
      "Requirement already satisfied: typeguard>=2.7 in /usr/local/lib/python3.7/dist-packages (from tensorflow-addons) (2.7.1)\n"
     ]
    }
   ],
   "source": [
    "pip install tensorflow-addons"
   ]
  },
  {
   "cell_type": "code",
   "execution_count": 4,
   "metadata": {
    "colab": {
     "base_uri": "https://localhost:8080/"
    },
    "id": "-W5d6Z_0hbHi",
    "outputId": "8a4c0bef-09b8-4b7c-ca71-729964a03173"
   },
   "outputs": [
    {
     "name": "stdout",
     "output_type": "stream",
     "text": [
      "[nltk_data] Downloading package stopwords to /root/nltk_data...\n",
      "[nltk_data]   Package stopwords is already up-to-date!\n"
     ]
    }
   ],
   "source": [
    "import pandas as pd\n",
    "import numpy as np\n",
    "import matplotlib.pyplot as plt\n",
    "import seaborn as sns\n",
    "plt.style.use('fivethirtyeight')\n",
    "\n",
    "import tensorflow as tf\n",
    "from tensorflow.keras.models import Sequential\n",
    "from tensorflow.keras.layers import Bidirectional, Dense, Dropout, LSTM, GRU, Embedding\n",
    "from tensorflow.keras.preprocessing.sequence import pad_sequences\n",
    "from tensorflow.keras.preprocessing.text import Tokenizer\n",
    "from tensorflow.keras.callbacks import EarlyStopping\n",
    "from tensorflow.keras.optimizers import RMSprop, Adam\n",
    "import tensorflow_addons as tfa\n",
    "from sklearn.metrics import confusion_matrix, f1_score, accuracy_score\n",
    "\n",
    "import nltk\n",
    "nltk.download('stopwords')\n",
    "from nltk.corpus import stopwords"
   ]
  },
  {
   "cell_type": "code",
   "execution_count": 5,
   "metadata": {
    "id": "JnRFWGb0hmmU"
   },
   "outputs": [],
   "source": [
    "sql = \"\"\"\n",
    "    SELECT text\n",
    "    FROM `bigquery-public-data.hacker_news.stories`\n",
    "    WHERE text IS NOT NULL and text != '' and text != 'Mind the gap.'\n",
    "    LIMIT 100\n",
    "\"\"\"\n",
    "\n",
    "df_hn = client.query(sql).to_dataframe()"
   ]
  },
  {
   "cell_type": "code",
   "execution_count": 6,
   "metadata": {
    "colab": {
     "base_uri": "https://localhost:8080/",
     "height": 419
    },
    "id": "FXhPV4cHiBk2",
    "outputId": "798d2722-98f5-4009-b0f2-e74cff8196c0"
   },
   "outputs": [
    {
     "data": {
      "text/html": [
       "<div>\n",
       "<style scoped>\n",
       "    .dataframe tbody tr th:only-of-type {\n",
       "        vertical-align: middle;\n",
       "    }\n",
       "\n",
       "    .dataframe tbody tr th {\n",
       "        vertical-align: top;\n",
       "    }\n",
       "\n",
       "    .dataframe thead th {\n",
       "        text-align: right;\n",
       "    }\n",
       "</style>\n",
       "<table border=\"1\" class=\"dataframe\">\n",
       "  <thead>\n",
       "    <tr style=\"text-align: right;\">\n",
       "      <th></th>\n",
       "      <th>text</th>\n",
       "    </tr>\n",
       "  </thead>\n",
       "  <tbody>\n",
       "    <tr>\n",
       "      <th>0</th>\n",
       "      <td>I&amp;#x27;d love to get some feedback from HN. We...</td>\n",
       "    </tr>\n",
       "    <tr>\n",
       "      <th>1</th>\n",
       "      <td>Cauti modalitati de a face bani? Daca esti des...</td>\n",
       "    </tr>\n",
       "    <tr>\n",
       "      <th>2</th>\n",
       "      <td>Visit Dubai Escorts is Escorts Directory with ...</td>\n",
       "    </tr>\n",
       "    <tr>\n",
       "      <th>3</th>\n",
       "      <td>El hospital de El Vendrell (Tarragona) tiene u...</td>\n",
       "    </tr>\n",
       "    <tr>\n",
       "      <th>4</th>\n",
       "      <td>btw i'm not a php fan, but some times i have t...</td>\n",
       "    </tr>\n",
       "    <tr>\n",
       "      <th>...</th>\n",
       "      <td>...</td>\n",
       "    </tr>\n",
       "    <tr>\n",
       "      <th>95</th>\n",
       "      <td>Slap The Bull&amp;#x27;s 2nd song and it&amp;#x27;s go...</td>\n",
       "    </tr>\n",
       "    <tr>\n",
       "      <th>96</th>\n",
       "      <td>Aren&amp;#x27;t there other strategies that would ...</td>\n",
       "    </tr>\n",
       "    <tr>\n",
       "      <th>97</th>\n",
       "      <td>Question for you all - Has anyone heard or had...</td>\n",
       "    </tr>\n",
       "    <tr>\n",
       "      <th>98</th>\n",
       "      <td>I&amp;#x27;m currently working full time and spend...</td>\n",
       "    </tr>\n",
       "    <tr>\n",
       "      <th>99</th>\n",
       "      <td>Conseillons aux Français, profitant des ponts ...</td>\n",
       "    </tr>\n",
       "  </tbody>\n",
       "</table>\n",
       "<p>100 rows × 1 columns</p>\n",
       "</div>"
      ],
      "text/plain": [
       "                                                 text\n",
       "0   I&#x27;d love to get some feedback from HN. We...\n",
       "1   Cauti modalitati de a face bani? Daca esti des...\n",
       "2   Visit Dubai Escorts is Escorts Directory with ...\n",
       "3   El hospital de El Vendrell (Tarragona) tiene u...\n",
       "4   btw i'm not a php fan, but some times i have t...\n",
       "..                                                ...\n",
       "95  Slap The Bull&#x27;s 2nd song and it&#x27;s go...\n",
       "96  Aren&#x27;t there other strategies that would ...\n",
       "97  Question for you all - Has anyone heard or had...\n",
       "98  I&#x27;m currently working full time and spend...\n",
       "99  Conseillons aux Français, profitant des ponts ...\n",
       "\n",
       "[100 rows x 1 columns]"
      ]
     },
     "execution_count": 6,
     "metadata": {
      "tags": []
     },
     "output_type": "execute_result"
    }
   ],
   "source": [
    "df_hn"
   ]
  },
  {
   "cell_type": "markdown",
   "metadata": {
    "id": "qgkNO7ELluE0"
   },
   "source": [
    "### Retrieve train data, EDA and data engineering"
   ]
  },
  {
   "cell_type": "code",
   "execution_count": 7,
   "metadata": {
    "colab": {
     "base_uri": "https://localhost:8080/"
    },
    "id": "cpzQgj16slVg",
    "outputId": "9e30d44f-2fba-4467-8432-98defff45858"
   },
   "outputs": [
    {
     "data": {
      "text/plain": [
       "(4817, 4)"
      ]
     },
     "execution_count": 7,
     "metadata": {
      "tags": []
     },
     "output_type": "execute_result"
    }
   ],
   "source": [
    "df = pd.read_csv('/content/drive/MyDrive/archive/inshort_news_data-1.csv')\n",
    "df.shape"
   ]
  },
  {
   "cell_type": "markdown",
   "metadata": {
    "id": "3rRRyf6GmI4Y"
   },
   "source": [
    "There are 6 more files like this. As we said, we'll use the entire data from Kaggle for training and test with HN data we created above. Just concat all these csv files into one big pandas dataframe and we are ready to train."
   ]
  },
  {
   "cell_type": "code",
   "execution_count": 8,
   "metadata": {
    "id": "bjwpg27flO7H"
   },
   "outputs": [],
   "source": [
    "for i in range(2, 8):\n",
    "  df_train = pd.read_csv(f'/content/drive/MyDrive/archive/inshort_news_data-{i}.csv')\n",
    "  df = df.append(df_train, ignore_index = True)"
   ]
  },
  {
   "cell_type": "code",
   "execution_count": 9,
   "metadata": {
    "colab": {
     "base_uri": "https://localhost:8080/"
    },
    "id": "yV_sRWqesh4i",
    "outputId": "d81b9069-517a-47e8-df66-c6c6b552e488"
   },
   "outputs": [
    {
     "data": {
      "text/plain": [
       "(12120, 4)"
      ]
     },
     "execution_count": 9,
     "metadata": {
      "tags": []
     },
     "output_type": "execute_result"
    }
   ],
   "source": [
    "df.shape"
   ]
  },
  {
   "cell_type": "markdown",
   "metadata": {
    "id": "h-uKT6SjmY1I"
   },
   "source": [
    "Let's check the distribution."
   ]
  },
  {
   "cell_type": "code",
   "execution_count": 10,
   "metadata": {
    "colab": {
     "base_uri": "https://localhost:8080/",
     "height": 282
    },
    "id": "eW0mNl8-mC1z",
    "outputId": "85e1ab95-361b-4e4a-c96b-3a03e3e7ceef"
   },
   "outputs": [
    {
     "data": {
      "image/png": "[encoded data removed]",
      "text/plain": [
       "<Figure size 432x288 with 1 Axes>"
      ]
     },
     "metadata": {
      "tags": []
     },
     "output_type": "display_data"
    }
   ],
   "source": [
    "plt.figure(figsize=[6,4])\n",
    "plt.barh(df['news_category'].value_counts().index, df['news_category'].value_counts());"
   ]
  },
  {
   "cell_type": "markdown",
   "metadata": {
    "id": "yqHrda6ml9N_"
   },
   "source": [
    "It is somewhat balanced so we don't need to over or undersample for now. Anyway, we'll follow the F1 score metric closely and we'll display some confusion matrices."
   ]
  },
  {
   "cell_type": "code",
   "execution_count": 11,
   "metadata": {
    "id": "WlgycwzIoetQ"
   },
   "outputs": [],
   "source": [
    "# Constants\n",
    "\n",
    "VOCABULARY_SIZE = 20000\n",
    "MAX_NUM_WORDS = 800\n",
    "EMBEDDING_DIMENSIONS = 512\n",
    "BATCH_SIZE = 256\n",
    "CLASS_NUM = 7\n",
    "EPOCHS = 100\n",
    "LEARNING_RATE = 0.0001"
   ]
  },
  {
   "cell_type": "markdown",
   "metadata": {
    "id": "h-C-LmLkmk1X"
   },
   "source": [
    "Few more preprocessing steps before we feed the model:\n",
    "\n",
    "1) map the target variable to numeric\n",
    "\n",
    "\n",
    "2) additional cleaning with removal of the stopwords + all lowercase\n",
    "\n",
    "3) one-hot encode the target, so we can display the F1 Score\n",
    "\n",
    "4) create tokens, sequences and pad and truncate them with 'post' as its required by Tensorflow"
   ]
  },
  {
   "cell_type": "code",
   "execution_count": 12,
   "metadata": {
    "id": "YrwH5YmSnpyL"
   },
   "outputs": [],
   "source": [
    "df['news_category'] = df['news_category'].map({'automobile': 0, 'science': 1, 'politics': 2, 'technology': 3, 'sports': 4, 'entertainment': 5, 'world': 6})"
   ]
  },
  {
   "cell_type": "code",
   "execution_count": 13,
   "metadata": {
    "id": "CnRORApFuALk"
   },
   "outputs": [],
   "source": [
    "df['text'] = df['news_article']"
   ]
  },
  {
   "cell_type": "code",
   "execution_count": 14,
   "metadata": {
    "id": "jtTy0UYx1q3q"
   },
   "outputs": [],
   "source": [
    "def clean_corpus(row):\n",
    "  lower = row.lower()\n",
    "  cleaned_text = [w for w in lower.split(' ') if w not in stopwords.words('english')]\n",
    "  cleaned_text = ' '.join(cleaned_text)\n",
    "  return cleaned_text\n",
    "df['text'] = df['text'].map(clean_corpus)"
   ]
  },
  {
   "cell_type": "code",
   "execution_count": 15,
   "metadata": {
    "colab": {
     "base_uri": "https://localhost:8080/",
     "height": 52
    },
    "id": "pkqocFGh1XUx",
    "outputId": "f1bef826-9720-4f54-ebf9-4ce60f329092"
   },
   "outputs": [
    {
     "data": {
      "application/vnd.google.colaboratory.intrinsic+json": {
       "type": "string"
      },
      "text/plain": [
       "'deepmind\\'s ai system \\'alphafold\\' recognised solution \"protein folding\", grand challenge biology 50 years. deepmind showed predict proteins fold 3d shapes, complex process fundamental understanding biological machinery life. alphafold predict shape proteins within width atom.'"
      ]
     },
     "execution_count": 15,
     "metadata": {
      "tags": []
     },
     "output_type": "execute_result"
    }
   ],
   "source": [
    "df.head(1)['text'].loc[0]"
   ]
  },
  {
   "cell_type": "code",
   "execution_count": 16,
   "metadata": {
    "colab": {
     "base_uri": "https://localhost:8080/",
     "height": 80
    },
    "id": "VbAGMKyR_Pu9",
    "outputId": "b882b1a1-000d-4d0a-c6ea-803634a8ee08"
   },
   "outputs": [
    {
     "data": {
      "text/html": [
       "<div>\n",
       "<style scoped>\n",
       "    .dataframe tbody tr th:only-of-type {\n",
       "        vertical-align: middle;\n",
       "    }\n",
       "\n",
       "    .dataframe tbody tr th {\n",
       "        vertical-align: top;\n",
       "    }\n",
       "\n",
       "    .dataframe thead th {\n",
       "        text-align: right;\n",
       "    }\n",
       "</style>\n",
       "<table border=\"1\" class=\"dataframe\">\n",
       "  <thead>\n",
       "    <tr style=\"text-align: right;\">\n",
       "      <th></th>\n",
       "      <th>Unnamed: 0</th>\n",
       "      <th>news_headline</th>\n",
       "      <th>news_article</th>\n",
       "      <th>news_category</th>\n",
       "      <th>text</th>\n",
       "    </tr>\n",
       "  </thead>\n",
       "  <tbody>\n",
       "    <tr>\n",
       "      <th>4502</th>\n",
       "      <td>4502</td>\n",
       "      <td>Chinese firm's COVID-19 vaccine is 86% effecti...</td>\n",
       "      <td>A COVID-19 vaccine developed by Chinese state-...</td>\n",
       "      <td>6</td>\n",
       "      <td>covid-19 vaccine developed chinese state-owned...</td>\n",
       "    </tr>\n",
       "  </tbody>\n",
       "</table>\n",
       "</div>"
      ],
      "text/plain": [
       "      Unnamed: 0  ...                                               text\n",
       "4502        4502  ...  covid-19 vaccine developed chinese state-owned...\n",
       "\n",
       "[1 rows x 5 columns]"
      ]
     },
     "execution_count": 16,
     "metadata": {
      "tags": []
     },
     "output_type": "execute_result"
    }
   ],
   "source": [
    "df.sample(1)"
   ]
  },
  {
   "cell_type": "markdown",
   "metadata": {
    "id": "XOLIINxf3W7P"
   },
   "source": [
    "Good, now we have all the essentials and they are lower case."
   ]
  },
  {
   "cell_type": "code",
   "execution_count": 17,
   "metadata": {
    "id": "jwfb3zACt4Md"
   },
   "outputs": [],
   "source": [
    "x_train, y_train = df['text'], df['news_category']"
   ]
  },
  {
   "cell_type": "code",
   "execution_count": 18,
   "metadata": {
    "id": "QuIt54m7jVl-"
   },
   "outputs": [],
   "source": [
    "# y_train = tf.one_hot(y_train, 7)"
   ]
  },
  {
   "cell_type": "code",
   "execution_count": 19,
   "metadata": {
    "id": "aj9DbeNSo2yo"
   },
   "outputs": [],
   "source": [
    "tokenizer = Tokenizer(num_words=VOCABULARY_SIZE)\n",
    "tokenizer.fit_on_texts(x_train)"
   ]
  },
  {
   "cell_type": "code",
   "execution_count": 20,
   "metadata": {
    "id": "jeCqcptSo5Qg"
   },
   "outputs": [],
   "source": [
    "x_train = tokenizer.texts_to_sequences(x_train)\n",
    "x_train = pad_sequences(x_train, maxlen=MAX_NUM_WORDS, padding='post', truncating='post')"
   ]
  },
  {
   "cell_type": "code",
   "execution_count": 21,
   "metadata": {
    "colab": {
     "base_uri": "https://localhost:8080/"
    },
    "id": "TrJRrZr0plBh",
    "outputId": "56d08477-98d6-464b-8579-05a505707dbb"
   },
   "outputs": [
    {
     "data": {
      "text/plain": [
       "(12120, 800)"
      ]
     },
     "execution_count": 21,
     "metadata": {
      "tags": []
     },
     "output_type": "execute_result"
    }
   ],
   "source": [
    "x_train.shape"
   ]
  },
  {
   "cell_type": "markdown",
   "metadata": {
    "id": "cn5uVFx0nUmq"
   },
   "source": [
    "### Training\n",
    "\n",
    "The task is not among the most difficult ones so we don't need to stack a lot of layers. One bidirectional LSTM layer and one Dense to classify at the end should do decent work with this data."
   ]
  },
  {
   "cell_type": "code",
   "execution_count": 22,
   "metadata": {
    "id": "Z79bKiLSmWTw"
   },
   "outputs": [],
   "source": [
    "lstm_simple = Sequential([\n",
    "                          Embedding(VOCABULARY_SIZE, EMBEDDING_DIMENSIONS),\n",
    "                          Bidirectional(LSTM(300, dropout=0.95)),\n",
    "                          Dense(CLASS_NUM, activation='softmax')\n",
    "])"
   ]
  },
  {
   "cell_type": "code",
   "execution_count": 23,
   "metadata": {
    "id": "8Eovn4xrqM7j"
   },
   "outputs": [],
   "source": [
    "# Helpers\n",
    "early_stopping = EarlyStopping(monitor='val_loss', patience=8)\n",
    "f1_score = tfa.metrics.F1Score(CLASS_NUM, name = 'f1_score', average = 'macro')"
   ]
  },
  {
   "cell_type": "code",
   "execution_count": 24,
   "metadata": {
    "id": "p9uxo1I9p3Ni"
   },
   "outputs": [],
   "source": [
    "lstm_simple.compile(optimizer=RMSprop(learning_rate=LEARNING_RATE), loss='sparse_categorical_crossentropy', metrics=['accuracy'])"
   ]
  },
  {
   "cell_type": "code",
   "execution_count": 25,
   "metadata": {
    "colab": {
     "base_uri": "https://localhost:8080/"
    },
    "id": "MM4iEzhMqDLK",
    "outputId": "6dbcff5a-aefe-4ec6-b629-0e39dc85d67a"
   },
   "outputs": [
    {
     "name": "stdout",
     "output_type": "stream",
     "text": [
      "Epoch 1/100\n",
      "38/38 [==============================] - 45s 1s/step - loss: 1.9333 - accuracy: 0.1723 - val_loss: 1.9576 - val_accuracy: 0.2492\n",
      "Epoch 2/100\n",
      "38/38 [==============================] - 40s 1s/step - loss: 1.9099 - accuracy: 0.2240 - val_loss: 1.9403 - val_accuracy: 0.2034\n",
      "Epoch 3/100\n",
      "38/38 [==============================] - 41s 1s/step - loss: 1.8862 - accuracy: 0.2648 - val_loss: 1.8706 - val_accuracy: 0.3601\n",
      "Epoch 4/100\n",
      "38/38 [==============================] - 41s 1s/step - loss: 1.8090 - accuracy: 0.3241 - val_loss: 1.7155 - val_accuracy: 0.3857\n",
      "Epoch 5/100\n",
      "38/38 [==============================] - 42s 1s/step - loss: 1.6681 - accuracy: 0.3487 - val_loss: 1.5512 - val_accuracy: 0.3738\n",
      "Epoch 6/100\n",
      "38/38 [==============================] - 42s 1s/step - loss: 1.5599 - accuracy: 0.3774 - val_loss: 1.4362 - val_accuracy: 0.4546\n",
      "Epoch 7/100\n",
      "38/38 [==============================] - 43s 1s/step - loss: 1.4625 - accuracy: 0.4302 - val_loss: 1.3956 - val_accuracy: 0.4629\n",
      "Epoch 8/100\n",
      "38/38 [==============================] - 43s 1s/step - loss: 1.3835 - accuracy: 0.4702 - val_loss: 1.2334 - val_accuracy: 0.5400\n",
      "Epoch 9/100\n",
      "38/38 [==============================] - 43s 1s/step - loss: 1.3013 - accuracy: 0.5155 - val_loss: 1.1674 - val_accuracy: 0.5879\n",
      "Epoch 10/100\n",
      "38/38 [==============================] - 43s 1s/step - loss: 1.2102 - accuracy: 0.5574 - val_loss: 1.0688 - val_accuracy: 0.6485\n",
      "Epoch 11/100\n",
      "38/38 [==============================] - 44s 1s/step - loss: 1.1383 - accuracy: 0.5787 - val_loss: 1.0032 - val_accuracy: 0.6683\n",
      "Epoch 12/100\n",
      "38/38 [==============================] - 44s 1s/step - loss: 1.0950 - accuracy: 0.5936 - val_loss: 0.9318 - val_accuracy: 0.7042\n",
      "Epoch 13/100\n",
      "38/38 [==============================] - 44s 1s/step - loss: 1.0070 - accuracy: 0.6385 - val_loss: 0.8878 - val_accuracy: 0.6972\n",
      "Epoch 14/100\n",
      "38/38 [==============================] - 44s 1s/step - loss: 0.9761 - accuracy: 0.6323 - val_loss: 0.8596 - val_accuracy: 0.7356\n",
      "Epoch 15/100\n",
      "38/38 [==============================] - 44s 1s/step - loss: 0.9098 - accuracy: 0.6629 - val_loss: 0.8365 - val_accuracy: 0.7203\n",
      "Epoch 16/100\n",
      "38/38 [==============================] - 44s 1s/step - loss: 0.8906 - accuracy: 0.6706 - val_loss: 0.7825 - val_accuracy: 0.7640\n",
      "Epoch 17/100\n",
      "38/38 [==============================] - 44s 1s/step - loss: 0.8379 - accuracy: 0.6861 - val_loss: 0.7892 - val_accuracy: 0.7277\n",
      "Epoch 18/100\n",
      "38/38 [==============================] - 44s 1s/step - loss: 0.8156 - accuracy: 0.6970 - val_loss: 0.7896 - val_accuracy: 0.7195\n",
      "Epoch 19/100\n",
      "38/38 [==============================] - 44s 1s/step - loss: 0.7619 - accuracy: 0.7183 - val_loss: 0.7344 - val_accuracy: 0.7570\n",
      "Epoch 20/100\n",
      "38/38 [==============================] - 44s 1s/step - loss: 0.7357 - accuracy: 0.7311 - val_loss: 0.6950 - val_accuracy: 0.7962\n",
      "Epoch 21/100\n",
      "38/38 [==============================] - 44s 1s/step - loss: 0.7150 - accuracy: 0.7403 - val_loss: 0.6784 - val_accuracy: 0.7983\n",
      "Epoch 22/100\n",
      "38/38 [==============================] - 43s 1s/step - loss: 0.6990 - accuracy: 0.7413 - val_loss: 0.6752 - val_accuracy: 0.7941\n",
      "Epoch 23/100\n",
      "38/38 [==============================] - 43s 1s/step - loss: 0.6678 - accuracy: 0.7563 - val_loss: 0.6615 - val_accuracy: 0.8073\n",
      "Epoch 24/100\n",
      "38/38 [==============================] - 43s 1s/step - loss: 0.6298 - accuracy: 0.7680 - val_loss: 0.6980 - val_accuracy: 0.7723\n",
      "Epoch 25/100\n",
      "38/38 [==============================] - 43s 1s/step - loss: 0.6063 - accuracy: 0.7844 - val_loss: 0.6252 - val_accuracy: 0.8218\n",
      "Epoch 26/100\n",
      "38/38 [==============================] - 43s 1s/step - loss: 0.5846 - accuracy: 0.7912 - val_loss: 0.6195 - val_accuracy: 0.8181\n",
      "Epoch 27/100\n",
      "38/38 [==============================] - 43s 1s/step - loss: 0.5650 - accuracy: 0.8022 - val_loss: 0.6027 - val_accuracy: 0.8177\n",
      "Epoch 28/100\n",
      "38/38 [==============================] - 43s 1s/step - loss: 0.5473 - accuracy: 0.8097 - val_loss: 0.6152 - val_accuracy: 0.8086\n",
      "Epoch 29/100\n",
      "38/38 [==============================] - 43s 1s/step - loss: 0.5144 - accuracy: 0.8205 - val_loss: 0.5911 - val_accuracy: 0.8201\n",
      "Epoch 30/100\n",
      "38/38 [==============================] - 43s 1s/step - loss: 0.5015 - accuracy: 0.8256 - val_loss: 0.5662 - val_accuracy: 0.8267\n",
      "Epoch 31/100\n",
      "38/38 [==============================] - 43s 1s/step - loss: 0.5099 - accuracy: 0.8224 - val_loss: 0.6018 - val_accuracy: 0.8082\n",
      "Epoch 32/100\n",
      "38/38 [==============================] - 43s 1s/step - loss: 0.4836 - accuracy: 0.8299 - val_loss: 0.5621 - val_accuracy: 0.8276\n",
      "Epoch 33/100\n",
      "38/38 [==============================] - 43s 1s/step - loss: 0.4587 - accuracy: 0.8405 - val_loss: 0.5644 - val_accuracy: 0.8251\n",
      "Epoch 34/100\n",
      "38/38 [==============================] - 43s 1s/step - loss: 0.4471 - accuracy: 0.8433 - val_loss: 0.5484 - val_accuracy: 0.8362\n",
      "Epoch 35/100\n",
      "38/38 [==============================] - 43s 1s/step - loss: 0.4253 - accuracy: 0.8551 - val_loss: 0.5807 - val_accuracy: 0.8181\n",
      "Epoch 36/100\n",
      "38/38 [==============================] - 43s 1s/step - loss: 0.4158 - accuracy: 0.8525 - val_loss: 0.5091 - val_accuracy: 0.8560\n",
      "Epoch 37/100\n",
      "38/38 [==============================] - 43s 1s/step - loss: 0.3998 - accuracy: 0.8645 - val_loss: 0.5006 - val_accuracy: 0.8540\n",
      "Epoch 38/100\n",
      "38/38 [==============================] - 43s 1s/step - loss: 0.4015 - accuracy: 0.8608 - val_loss: 0.5143 - val_accuracy: 0.8300\n",
      "Epoch 39/100\n",
      "38/38 [==============================] - 43s 1s/step - loss: 0.3918 - accuracy: 0.8650 - val_loss: 0.5042 - val_accuracy: 0.8560\n",
      "Epoch 40/100\n",
      "38/38 [==============================] - 43s 1s/step - loss: 0.3601 - accuracy: 0.8786 - val_loss: 0.4842 - val_accuracy: 0.8589\n",
      "Epoch 41/100\n",
      "38/38 [==============================] - 43s 1s/step - loss: 0.3549 - accuracy: 0.8793 - val_loss: 0.5111 - val_accuracy: 0.8461\n",
      "Epoch 42/100\n",
      "38/38 [==============================] - 43s 1s/step - loss: 0.3372 - accuracy: 0.8847 - val_loss: 0.4848 - val_accuracy: 0.8494\n",
      "Epoch 43/100\n",
      "38/38 [==============================] - 43s 1s/step - loss: 0.3458 - accuracy: 0.8864 - val_loss: 0.4683 - val_accuracy: 0.8552\n",
      "Epoch 44/100\n",
      "38/38 [==============================] - 43s 1s/step - loss: 0.3455 - accuracy: 0.8790 - val_loss: 0.4839 - val_accuracy: 0.8544\n",
      "Epoch 45/100\n",
      "38/38 [==============================] - 43s 1s/step - loss: 0.3205 - accuracy: 0.8935 - val_loss: 0.4763 - val_accuracy: 0.8597\n",
      "Epoch 46/100\n",
      "38/38 [==============================] - 43s 1s/step - loss: 0.3056 - accuracy: 0.8968 - val_loss: 0.5406 - val_accuracy: 0.8457\n",
      "Epoch 47/100\n",
      "38/38 [==============================] - 43s 1s/step - loss: 0.3094 - accuracy: 0.8983 - val_loss: 0.4899 - val_accuracy: 0.8573\n",
      "Epoch 48/100\n",
      "38/38 [==============================] - 43s 1s/step - loss: 0.3046 - accuracy: 0.8966 - val_loss: 0.4645 - val_accuracy: 0.8663\n",
      "Epoch 49/100\n",
      "38/38 [==============================] - 43s 1s/step - loss: 0.2997 - accuracy: 0.8983 - val_loss: 0.4928 - val_accuracy: 0.8523\n",
      "Epoch 50/100\n",
      "38/38 [==============================] - 43s 1s/step - loss: 0.2851 - accuracy: 0.9022 - val_loss: 0.5072 - val_accuracy: 0.8544\n",
      "Epoch 51/100\n",
      "38/38 [==============================] - 43s 1s/step - loss: 0.2820 - accuracy: 0.9106 - val_loss: 0.4628 - val_accuracy: 0.8606\n",
      "Epoch 52/100\n",
      "38/38 [==============================] - 43s 1s/step - loss: 0.2674 - accuracy: 0.9103 - val_loss: 0.4656 - val_accuracy: 0.8692\n",
      "Epoch 53/100\n",
      "38/38 [==============================] - 43s 1s/step - loss: 0.2673 - accuracy: 0.9073 - val_loss: 0.4767 - val_accuracy: 0.8589\n",
      "Epoch 54/100\n",
      "38/38 [==============================] - 43s 1s/step - loss: 0.2582 - accuracy: 0.9125 - val_loss: 0.4645 - val_accuracy: 0.8684\n",
      "Epoch 55/100\n",
      "38/38 [==============================] - 43s 1s/step - loss: 0.2574 - accuracy: 0.9147 - val_loss: 0.4703 - val_accuracy: 0.8618\n",
      "Epoch 56/100\n",
      "38/38 [==============================] - 43s 1s/step - loss: 0.2592 - accuracy: 0.9147 - val_loss: 0.4515 - val_accuracy: 0.8601\n",
      "Epoch 57/100\n",
      "38/38 [==============================] - 43s 1s/step - loss: 0.2429 - accuracy: 0.9186 - val_loss: 0.4429 - val_accuracy: 0.8684\n",
      "Epoch 58/100\n",
      "38/38 [==============================] - 43s 1s/step - loss: 0.2421 - accuracy: 0.9207 - val_loss: 0.4782 - val_accuracy: 0.8507\n",
      "Epoch 59/100\n",
      "38/38 [==============================] - 43s 1s/step - loss: 0.2294 - accuracy: 0.9243 - val_loss: 0.4219 - val_accuracy: 0.8709\n",
      "Epoch 60/100\n",
      "38/38 [==============================] - 43s 1s/step - loss: 0.2295 - accuracy: 0.9271 - val_loss: 0.4430 - val_accuracy: 0.8746\n",
      "Epoch 61/100\n",
      "38/38 [==============================] - 43s 1s/step - loss: 0.2224 - accuracy: 0.9239 - val_loss: 0.4787 - val_accuracy: 0.8601\n",
      "Epoch 62/100\n",
      "38/38 [==============================] - 43s 1s/step - loss: 0.2399 - accuracy: 0.9207 - val_loss: 0.4282 - val_accuracy: 0.8771\n",
      "Epoch 63/100\n",
      "38/38 [==============================] - 43s 1s/step - loss: 0.2259 - accuracy: 0.9263 - val_loss: 0.4414 - val_accuracy: 0.8630\n",
      "Epoch 64/100\n",
      "38/38 [==============================] - 43s 1s/step - loss: 0.2169 - accuracy: 0.9285 - val_loss: 0.4531 - val_accuracy: 0.8626\n",
      "Epoch 65/100\n",
      "38/38 [==============================] - 44s 1s/step - loss: 0.2029 - accuracy: 0.9312 - val_loss: 0.4151 - val_accuracy: 0.8783\n",
      "Epoch 66/100\n",
      "38/38 [==============================] - 43s 1s/step - loss: 0.2075 - accuracy: 0.9313 - val_loss: 0.4519 - val_accuracy: 0.8478\n",
      "Epoch 67/100\n",
      "38/38 [==============================] - 43s 1s/step - loss: 0.2169 - accuracy: 0.9267 - val_loss: 0.4529 - val_accuracy: 0.8659\n",
      "Epoch 68/100\n",
      "38/38 [==============================] - 43s 1s/step - loss: 0.2059 - accuracy: 0.9342 - val_loss: 0.4199 - val_accuracy: 0.8779\n",
      "Epoch 69/100\n",
      "38/38 [==============================] - 43s 1s/step - loss: 0.2011 - accuracy: 0.9338 - val_loss: 0.4260 - val_accuracy: 0.8692\n",
      "Epoch 70/100\n",
      "38/38 [==============================] - 43s 1s/step - loss: 0.1966 - accuracy: 0.9339 - val_loss: 0.4376 - val_accuracy: 0.8828\n",
      "Epoch 71/100\n",
      "38/38 [==============================] - 43s 1s/step - loss: 0.1920 - accuracy: 0.9350 - val_loss: 0.4348 - val_accuracy: 0.8750\n",
      "Epoch 72/100\n",
      "38/38 [==============================] - 43s 1s/step - loss: 0.1957 - accuracy: 0.9360 - val_loss: 0.4648 - val_accuracy: 0.8655\n",
      "Epoch 73/100\n",
      "38/38 [==============================] - 43s 1s/step - loss: 0.1938 - accuracy: 0.9379 - val_loss: 0.4128 - val_accuracy: 0.8804\n",
      "Epoch 74/100\n",
      "38/38 [==============================] - 43s 1s/step - loss: 0.1970 - accuracy: 0.9347 - val_loss: 0.4433 - val_accuracy: 0.8762\n",
      "Epoch 75/100\n",
      "38/38 [==============================] - 43s 1s/step - loss: 0.1873 - accuracy: 0.9377 - val_loss: 0.4137 - val_accuracy: 0.8738\n",
      "Epoch 76/100\n",
      "38/38 [==============================] - 43s 1s/step - loss: 0.1741 - accuracy: 0.9410 - val_loss: 0.4130 - val_accuracy: 0.8721\n",
      "Epoch 77/100\n",
      "38/38 [==============================] - 43s 1s/step - loss: 0.1879 - accuracy: 0.9368 - val_loss: 0.4412 - val_accuracy: 0.8630\n",
      "Epoch 78/100\n",
      "38/38 [==============================] - 43s 1s/step - loss: 0.1744 - accuracy: 0.9394 - val_loss: 0.4339 - val_accuracy: 0.8659\n",
      "Epoch 79/100\n",
      "38/38 [==============================] - 43s 1s/step - loss: 0.1817 - accuracy: 0.9434 - val_loss: 0.3982 - val_accuracy: 0.8688\n",
      "Epoch 80/100\n",
      "38/38 [==============================] - 43s 1s/step - loss: 0.1709 - accuracy: 0.9441 - val_loss: 0.4011 - val_accuracy: 0.8779\n",
      "Epoch 81/100\n",
      "38/38 [==============================] - 43s 1s/step - loss: 0.1680 - accuracy: 0.9409 - val_loss: 0.4076 - val_accuracy: 0.8713\n",
      "Epoch 82/100\n",
      "38/38 [==============================] - 43s 1s/step - loss: 0.1645 - accuracy: 0.9448 - val_loss: 0.4356 - val_accuracy: 0.8676\n",
      "Epoch 83/100\n",
      "38/38 [==============================] - 43s 1s/step - loss: 0.1645 - accuracy: 0.9454 - val_loss: 0.4588 - val_accuracy: 0.8639\n",
      "Epoch 84/100\n",
      "38/38 [==============================] - 43s 1s/step - loss: 0.1716 - accuracy: 0.9448 - val_loss: 0.4452 - val_accuracy: 0.8692\n",
      "Epoch 85/100\n",
      "38/38 [==============================] - 43s 1s/step - loss: 0.1718 - accuracy: 0.9417 - val_loss: 0.4174 - val_accuracy: 0.8700\n",
      "Epoch 86/100\n",
      "38/38 [==============================] - 43s 1s/step - loss: 0.1587 - accuracy: 0.9454 - val_loss: 0.4266 - val_accuracy: 0.8775\n",
      "Epoch 87/100\n",
      "38/38 [==============================] - 43s 1s/step - loss: 0.1646 - accuracy: 0.9428 - val_loss: 0.3934 - val_accuracy: 0.8750\n",
      "Epoch 88/100\n",
      "38/38 [==============================] - 43s 1s/step - loss: 0.1752 - accuracy: 0.9381 - val_loss: 0.4302 - val_accuracy: 0.8684\n",
      "Epoch 89/100\n",
      "38/38 [==============================] - 43s 1s/step - loss: 0.1579 - accuracy: 0.9475 - val_loss: 0.3931 - val_accuracy: 0.8783\n",
      "Epoch 90/100\n",
      "38/38 [==============================] - 43s 1s/step - loss: 0.1587 - accuracy: 0.9436 - val_loss: 0.4313 - val_accuracy: 0.8725\n",
      "Epoch 91/100\n",
      "38/38 [==============================] - 43s 1s/step - loss: 0.1523 - accuracy: 0.9479 - val_loss: 0.4060 - val_accuracy: 0.8717\n",
      "Epoch 92/100\n",
      "38/38 [==============================] - 43s 1s/step - loss: 0.1534 - accuracy: 0.9473 - val_loss: 0.4055 - val_accuracy: 0.8713\n",
      "Epoch 93/100\n",
      "38/38 [==============================] - 43s 1s/step - loss: 0.1485 - accuracy: 0.9494 - val_loss: 0.4399 - val_accuracy: 0.8709\n",
      "Epoch 94/100\n",
      "38/38 [==============================] - 43s 1s/step - loss: 0.1638 - accuracy: 0.9433 - val_loss: 0.3999 - val_accuracy: 0.8754\n",
      "Epoch 95/100\n",
      "38/38 [==============================] - 43s 1s/step - loss: 0.1526 - accuracy: 0.9440 - val_loss: 0.4073 - val_accuracy: 0.8725\n",
      "Epoch 96/100\n",
      "38/38 [==============================] - 43s 1s/step - loss: 0.1486 - accuracy: 0.9464 - val_loss: 0.3923 - val_accuracy: 0.8758\n",
      "Epoch 97/100\n",
      "38/38 [==============================] - 43s 1s/step - loss: 0.1480 - accuracy: 0.9502 - val_loss: 0.3954 - val_accuracy: 0.8754\n",
      "Epoch 98/100\n",
      "38/38 [==============================] - 43s 1s/step - loss: 0.1523 - accuracy: 0.9480 - val_loss: 0.4187 - val_accuracy: 0.8746\n",
      "Epoch 99/100\n",
      "38/38 [==============================] - 43s 1s/step - loss: 0.1419 - accuracy: 0.9515 - val_loss: 0.4260 - val_accuracy: 0.8692\n",
      "Epoch 100/100\n",
      "38/38 [==============================] - 43s 1s/step - loss: 0.1355 - accuracy: 0.9533 - val_loss: 0.4316 - val_accuracy: 0.8729\n"
     ]
    }
   ],
   "source": [
    "history = lstm_simple.fit(x_train, y_train, validation_split=0.2, epochs=EPOCHS, batch_size=BATCH_SIZE, callbacks=[early_stopping])"
   ]
  },
  {
   "cell_type": "code",
   "execution_count": 26,
   "metadata": {
    "id": "PcDoVVRDumJP"
   },
   "outputs": [],
   "source": [
    "def plot_history(history_obj, string_representation1, string_representation2):\n",
    "  plt.plot(history_obj.history[string_representation1], label = string_representation1)\n",
    "  plt.plot(history_obj.history[string_representation2], label = string_representation2)\n",
    "  plt.legend()\n",
    "  plt.ylabel(string_representation1)\n",
    "  plt.show()"
   ]
  },
  {
   "cell_type": "code",
   "execution_count": 27,
   "metadata": {
    "colab": {
     "base_uri": "https://localhost:8080/",
     "height": 282
    },
    "id": "mo7TfoXwgsIF",
    "outputId": "c1d1dea4-3bb5-4627-ad44-dd5b4bf92d7a"
   },
   "outputs": [
    {
     "data": {
      "image/png": "[encoded data removed]",
      "text/plain": [
       "<Figure size 432x288 with 1 Axes>"
      ]
     },
     "metadata": {
      "tags": []
     },
     "output_type": "display_data"
    }
   ],
   "source": [
    "plot_history(history, 'loss', 'val_loss')"
   ]
  },
  {
   "cell_type": "code",
   "execution_count": 28,
   "metadata": {
    "colab": {
     "base_uri": "https://localhost:8080/",
     "height": 282
    },
    "id": "_uVjkTJBhM2x",
    "outputId": "e7eda2f4-783b-44dc-f369-fa1b0dfdfa06"
   },
   "outputs": [
    {
     "data": {
      "image/png": "[encoded data removed]",
      "text/plain": [
       "<Figure size 432x288 with 1 Axes>"
      ]
     },
     "metadata": {
      "tags": []
     },
     "output_type": "display_data"
    }
   ],
   "source": [
    "plot_history(history, 'accuracy', 'val_accuracy')"
   ]
  },
  {
   "cell_type": "markdown",
   "metadata": {
    "id": "GHlQNC9aRWjZ"
   },
   "source": [
    "We weren't interrupted by the Early Stopping so that means our loss was still decreasing even at slower rates. We can continue as long as that is happening."
   ]
  },
  {
   "cell_type": "code",
   "execution_count": 32,
   "metadata": {
    "colab": {
     "base_uri": "https://localhost:8080/"
    },
    "id": "WnotzuHfRHVK",
    "outputId": "dfd61538-5119-42e3-d5fd-e12f0565137c"
   },
   "outputs": [
    {
     "name": "stdout",
     "output_type": "stream",
     "text": [
      "Epoch 1/20\n",
      "38/38 [==============================] - 41s 1s/step - loss: 0.1465 - accuracy: 0.9491 - val_loss: 0.4341 - val_accuracy: 0.8717\n",
      "Epoch 2/20\n",
      "38/38 [==============================] - 41s 1s/step - loss: 0.1413 - accuracy: 0.9498 - val_loss: 0.4315 - val_accuracy: 0.8721\n",
      "Epoch 3/20\n",
      "38/38 [==============================] - 42s 1s/step - loss: 0.1415 - accuracy: 0.9516 - val_loss: 0.4171 - val_accuracy: 0.8696\n",
      "Epoch 4/20\n",
      "38/38 [==============================] - 42s 1s/step - loss: 0.1418 - accuracy: 0.9509 - val_loss: 0.3996 - val_accuracy: 0.8700\n",
      "Epoch 5/20\n",
      "38/38 [==============================] - 42s 1s/step - loss: 0.1375 - accuracy: 0.9535 - val_loss: 0.4768 - val_accuracy: 0.8647\n",
      "Epoch 6/20\n",
      "38/38 [==============================] - 43s 1s/step - loss: 0.1367 - accuracy: 0.9520 - val_loss: 0.4206 - val_accuracy: 0.8717\n",
      "Epoch 7/20\n",
      "38/38 [==============================] - 43s 1s/step - loss: 0.1360 - accuracy: 0.9538 - val_loss: 0.4308 - val_accuracy: 0.8738\n",
      "Epoch 8/20\n",
      "38/38 [==============================] - 43s 1s/step - loss: 0.1323 - accuracy: 0.9541 - val_loss: 0.4733 - val_accuracy: 0.8630\n",
      "Epoch 9/20\n",
      "38/38 [==============================] - 43s 1s/step - loss: 0.1376 - accuracy: 0.9537 - val_loss: 0.4243 - val_accuracy: 0.8676\n",
      "Epoch 10/20\n",
      "38/38 [==============================] - 43s 1s/step - loss: 0.1309 - accuracy: 0.9572 - val_loss: 0.4440 - val_accuracy: 0.8684\n",
      "Epoch 11/20\n",
      "38/38 [==============================] - 43s 1s/step - loss: 0.1336 - accuracy: 0.9529 - val_loss: 0.4026 - val_accuracy: 0.8771\n",
      "Epoch 12/20\n",
      "38/38 [==============================] - 43s 1s/step - loss: 0.1361 - accuracy: 0.9536 - val_loss: 0.4239 - val_accuracy: 0.8713\n"
     ]
    }
   ],
   "source": [
    "history = lstm_simple.fit(x_train, y_train, validation_split=0.2, epochs=20, batch_size=BATCH_SIZE, callbacks=[early_stopping])"
   ]
  }
 ],
 "metadata": {
  "accelerator": "GPU",
  "colab": {
   "collapsed_sections": [],
   "name": "topic_labelling_rnn.ipynb",
   "provenance": []
  },
  "kernelspec": {
   "display_name": "Python 3",
   "language": "python",
   "name": "python3"
  },
  "language_info": {
   "codemirror_mode": {
    "name": "ipython",
    "version": 3
   },
   "file_extension": ".py",
   "mimetype": "text/x-python",
   "name": "python",
   "nbconvert_exporter": "python",
   "pygments_lexer": "ipython3",
   "version": "3.8.5"
  }
 },
 "nbformat": 4,
 "nbformat_minor": 1
}
